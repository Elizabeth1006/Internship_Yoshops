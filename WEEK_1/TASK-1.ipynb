{
 "cells": [
  {
   "cell_type": "markdown",
   "id": "4b82c4bd",
   "metadata": {},
   "source": [
    "# Personal Task-1st week"
   ]
  },
  {
   "cell_type": "markdown",
   "id": "4dc5a365",
   "metadata": {},
   "source": [
    "# 1. Python program to Create a excel file \n"
   ]
  },
  {
   "cell_type": "code",
   "execution_count": 1,
   "id": "378f1eba",
   "metadata": {},
   "outputs": [],
   "source": [
    "import openpyxl"
   ]
  },
  {
   "cell_type": "code",
   "execution_count": 2,
   "id": "f1a41ae5",
   "metadata": {},
   "outputs": [],
   "source": [
    "# Create a new workbook\n",
    "workbook = openpyxl.Workbook()"
   ]
  },
  {
   "cell_type": "code",
   "execution_count": 3,
   "id": "38e50d81",
   "metadata": {},
   "outputs": [],
   "source": [
    "# Select the active sheet\n",
    "sheet = workbook.active"
   ]
  },
  {
   "cell_type": "code",
   "execution_count": 4,
   "id": "2ca1fad2",
   "metadata": {},
   "outputs": [],
   "source": [
    "# Add data to cells\n",
    "sheet['A1'] = 'Name'\n",
    "sheet['B1'] = 'Age'\n",
    "sheet['C1'] = 'City'\n",
    "data = [\n",
    "    ('Elizabeth', 22, 'Thodupuzha'),\n",
    "    ('Malavika',22, 'Thodupuzha'),\n",
    "    ('Agnal', 23, 'Thrissur'),\n",
    "    ('Alpha', 24, 'Ernakulum')\n",
    "]"
   ]
  },
  {
   "cell_type": "code",
   "execution_count": 5,
   "id": "b10c02a3",
   "metadata": {},
   "outputs": [
    {
     "name": "stdout",
     "output_type": "stream",
     "text": [
      "Excel file is  created\n"
     ]
    }
   ],
   "source": [
    "\n",
    "for row in data:\n",
    "    sheet.append(row)\n",
    "\n",
    "# The workbook is saved\n",
    "workbook.save('Data.xlsx')\n",
    "\n",
    "print(\"Excel file is  created\")"
   ]
  },
  {
   "cell_type": "markdown",
   "id": "6db02e2f",
   "metadata": {},
   "source": [
    "# 2. Python program for Import data from an excel file \n"
   ]
  },
  {
   "cell_type": "code",
   "execution_count": 6,
   "id": "c52db89b",
   "metadata": {},
   "outputs": [
    {
     "name": "stdout",
     "output_type": "stream",
     "text": [
      "+-----------+-------+------------+\n",
      "| Name      |   Age | City       |\n",
      "+===========+=======+============+\n",
      "| Elizabeth |    22 | Thodupuzha |\n",
      "+-----------+-------+------------+\n",
      "| Malavika  |    22 | Thodupuzha |\n",
      "+-----------+-------+------------+\n",
      "| Agnal     |    23 | Thrissur   |\n",
      "+-----------+-------+------------+\n",
      "| Alpha     |    24 | Ernakulum  |\n",
      "+-----------+-------+------------+\n"
     ]
    }
   ],
   "source": [
    "import openpyxl\n",
    "from tabulate import tabulate\n",
    "\n",
    "# Load the Excel file\n",
    "workbook = openpyxl.load_workbook('Data.xlsx')\n",
    "\n",
    "# Select the active sheet\n",
    "sheet = workbook.active\n",
    "\n",
    "# Get the maximum row count\n",
    "max_row = sheet.max_row\n",
    "\n",
    "# Create an empty list to store the rows\n",
    "table_data = []\n",
    "\n",
    "# Iterate over the rows and columns\n",
    "for row in range(1, max_row + 1):\n",
    "    row_data = []\n",
    "    for column in range(1, sheet.max_column + 1):\n",
    "        cell_value = sheet.cell(row=row, column=column).value\n",
    "        row_data.append(cell_value)\n",
    "    table_data.append(row_data)\n",
    "\n",
    "# Print the table\n",
    "print(tabulate(table_data, headers=\"firstrow\", tablefmt=\"grid\"))"
   ]
  },
  {
   "cell_type": "markdown",
   "id": "21fa3846",
   "metadata": {},
   "source": [
    "# 3.  Python program for Format data in excel sheet \n"
   ]
  },
  {
   "cell_type": "code",
   "execution_count": 7,
   "id": "ddf9b509",
   "metadata": {},
   "outputs": [],
   "source": [
    "from openpyxl.styles import Font, Alignment\n",
    "\n",
    "# Load the Excel file\n",
    "workbook = openpyxl.load_workbook('Data.xlsx')\n",
    "\n",
    "# Select the active sheet\n",
    "sheet = workbook.active\n",
    "\n",
    "# Format the header row\n",
    "header_row = sheet[1]\n",
    "header_font = Font(bold=True)\n",
    "for cell in header_row:\n",
    "    cell.font = header_font\n",
    "    cell.alignment = Alignment(horizontal='center')\n",
    "\n",
    "# Format the data rows\n",
    "data_font = Font(italic=True)\n",
    "data_alignment = Alignment(horizontal='left')\n",
    "for row in sheet.iter_rows(min_row=2):\n",
    "    for cell in row:\n",
    "        cell.font = data_font\n",
    "        cell.alignment = data_alignment\n",
    "\n",
    "# Save the modified workbook\n",
    "workbook.save('formatted_Data.xlsx')"
   ]
  },
  {
   "cell_type": "markdown",
   "id": "9286fbaf",
   "metadata": {},
   "source": [
    "# 4. Python program for Prepare Yoshops Survey and Order excel charts Like = Pie Chart and Bar Chart Weekly, Monthly and Yearly Reports.\n"
   ]
  },
  {
   "cell_type": "code",
   "execution_count": 8,
   "id": "5678d4f4",
   "metadata": {},
   "outputs": [],
   "source": [
    "import pandas as pd\n"
   ]
  },
  {
   "cell_type": "code",
   "execution_count": 12,
   "id": "ce570c13",
   "metadata": {},
   "outputs": [],
   "source": [
    "survey = pd.read_excel(\"Yoshops Survey.xlsx\")"
   ]
  },
  {
   "cell_type": "code",
   "execution_count": 13,
   "id": "1973a0f8",
   "metadata": {},
   "outputs": [
    {
     "data": {
      "text/html": [
       "<div>\n",
       "<style scoped>\n",
       "    .dataframe tbody tr th:only-of-type {\n",
       "        vertical-align: middle;\n",
       "    }\n",
       "\n",
       "    .dataframe tbody tr th {\n",
       "        vertical-align: top;\n",
       "    }\n",
       "\n",
       "    .dataframe thead th {\n",
       "        text-align: right;\n",
       "    }\n",
       "</style>\n",
       "<table border=\"1\" class=\"dataframe\">\n",
       "  <thead>\n",
       "    <tr style=\"text-align: right;\">\n",
       "      <th></th>\n",
       "      <th>S.NO</th>\n",
       "      <th>Submitted Time</th>\n",
       "      <th>1. Name</th>\n",
       "      <th>3. Location , City Name</th>\n",
       "      <th>4. What class do you study in ?</th>\n",
       "      <th>5. Which Price range for Online Tution for LKG to PG Monthly Fees You like must</th>\n",
       "      <th>6. Laptop and Mobile which Price range you like most</th>\n",
       "      <th>7. What is your Favourite food biryani essay?</th>\n",
       "      <th>8. What is Price Rang for 1kg Biryani( 2 Person Eat) you like must</th>\n",
       "      <th>9. Which Financial products you like most</th>\n",
       "      <th>10. Are you interested in Yoshops Finance  Product.</th>\n",
       "      <th>11. Which Unpaid Training Internship are you interested for 6 Months ?</th>\n",
       "      <th>12. How much you pay training fees per month for online training with internship?</th>\n",
       "      <th>14. Any IDEA or Suggestions for Yoshops Startup</th>\n",
       "      <th>15. Do you want to get a free Gift and Refferal Amount Rs.100 by reffer friends to Training Internship and Online Tituation</th>\n",
       "      <th>16. How would you rate Yoshops Training Internship and Products &amp; Service</th>\n",
       "    </tr>\n",
       "  </thead>\n",
       "  <tbody>\n",
       "    <tr>\n",
       "      <th>0</th>\n",
       "      <td>1</td>\n",
       "      <td>24-11-2022</td>\n",
       "      <td>Kavita Israni</td>\n",
       "      <td>No answer</td>\n",
       "      <td>No answer</td>\n",
       "      <td>undefined</td>\n",
       "      <td>No answer</td>\n",
       "      <td>Veg Biryani  | undefined</td>\n",
       "      <td>149 | 199</td>\n",
       "      <td>Mutual Fund SIP (ROI 12%)-1yr</td>\n",
       "      <td>No answer</td>\n",
       "      <td>No answer</td>\n",
       "      <td>No answer</td>\n",
       "      <td>No Answer</td>\n",
       "      <td>No answer</td>\n",
       "      <td>No answer</td>\n",
       "    </tr>\n",
       "    <tr>\n",
       "      <th>1</th>\n",
       "      <td>2</td>\n",
       "      <td>24-11-2022</td>\n",
       "      <td>Kunal Anand</td>\n",
       "      <td>No answer</td>\n",
       "      <td>No answer</td>\n",
       "      <td>undefined</td>\n",
       "      <td>No answer</td>\n",
       "      <td>Chicken Biryani</td>\n",
       "      <td>149</td>\n",
       "      <td>Company Stock IPO(ROI 15%)-1yr</td>\n",
       "      <td>No answer</td>\n",
       "      <td>No answer</td>\n",
       "      <td>No answer</td>\n",
       "      <td>No Answer</td>\n",
       "      <td>No answer</td>\n",
       "      <td>No answer</td>\n",
       "    </tr>\n",
       "    <tr>\n",
       "      <th>2</th>\n",
       "      <td>3</td>\n",
       "      <td>25-11-2022</td>\n",
       "      <td>Deepak parmal</td>\n",
       "      <td>No answer</td>\n",
       "      <td>Graduation</td>\n",
       "      <td>undefined</td>\n",
       "      <td>No answer</td>\n",
       "      <td>Chicken Biryani</td>\n",
       "      <td>99</td>\n",
       "      <td>Yoshops Franchise Investment(ROI 16%)-1yr</td>\n",
       "      <td>No answer</td>\n",
       "      <td>No answer</td>\n",
       "      <td>No answer</td>\n",
       "      <td>Management should be better, I Think If you wo...</td>\n",
       "      <td>No answer</td>\n",
       "      <td>No answer</td>\n",
       "    </tr>\n",
       "    <tr>\n",
       "      <th>3</th>\n",
       "      <td>4</td>\n",
       "      <td>25-11-2022</td>\n",
       "      <td>Nidhi Gupta</td>\n",
       "      <td>No answer</td>\n",
       "      <td>LKG to STD 5 | STD 6 to STD 10</td>\n",
       "      <td>undefined</td>\n",
       "      <td>No answer</td>\n",
       "      <td>Chicken Biryani</td>\n",
       "      <td>149</td>\n",
       "      <td>Bank FD(Rate of Interest- 7%)-1yr</td>\n",
       "      <td>No answer</td>\n",
       "      <td>No answer</td>\n",
       "      <td>No answer</td>\n",
       "      <td>No</td>\n",
       "      <td>No answer</td>\n",
       "      <td>No answer</td>\n",
       "    </tr>\n",
       "    <tr>\n",
       "      <th>4</th>\n",
       "      <td>5</td>\n",
       "      <td>25-11-2022</td>\n",
       "      <td>Rohan Pandey</td>\n",
       "      <td>No answer</td>\n",
       "      <td>STD 6 to STD 10</td>\n",
       "      <td>undefined</td>\n",
       "      <td>No answer</td>\n",
       "      <td>Chicken Biryani</td>\n",
       "      <td>149</td>\n",
       "      <td>Bank FD(Rate of Interest- 7%)-1yr</td>\n",
       "      <td>No answer</td>\n",
       "      <td>No answer</td>\n",
       "      <td>No answer</td>\n",
       "      <td>Marketing</td>\n",
       "      <td>No answer</td>\n",
       "      <td>No answer</td>\n",
       "    </tr>\n",
       "  </tbody>\n",
       "</table>\n",
       "</div>"
      ],
      "text/plain": [
       "   S.NO Submitted Time        1. Name 3. Location , City Name  \\\n",
       "0     1     24-11-2022  Kavita Israni               No answer   \n",
       "1     2     24-11-2022    Kunal Anand               No answer   \n",
       "2     3     25-11-2022  Deepak parmal               No answer   \n",
       "3     4     25-11-2022    Nidhi Gupta               No answer   \n",
       "4     5     25-11-2022   Rohan Pandey               No answer   \n",
       "\n",
       "  4. What class do you study in ?  \\\n",
       "0                       No answer   \n",
       "1                       No answer   \n",
       "2                      Graduation   \n",
       "3  LKG to STD 5 | STD 6 to STD 10   \n",
       "4                 STD 6 to STD 10   \n",
       "\n",
       "  5. Which Price range for Online Tution for LKG to PG Monthly Fees You like must  \\\n",
       "0                                          undefined                                \n",
       "1                                          undefined                                \n",
       "2                                          undefined                                \n",
       "3                                          undefined                                \n",
       "4                                          undefined                                \n",
       "\n",
       "  6. Laptop and Mobile which Price range you like most  \\\n",
       "0                                          No answer     \n",
       "1                                          No answer     \n",
       "2                                          No answer     \n",
       "3                                          No answer     \n",
       "4                                          No answer     \n",
       "\n",
       "  7. What is your Favourite food biryani essay?  \\\n",
       "0                      Veg Biryani  | undefined   \n",
       "1                              Chicken Biryani    \n",
       "2                              Chicken Biryani    \n",
       "3                              Chicken Biryani    \n",
       "4                              Chicken Biryani    \n",
       "\n",
       "  8. What is Price Rang for 1kg Biryani( 2 Person Eat) you like must   \\\n",
       "0                                          149 | 199                    \n",
       "1                                                149                    \n",
       "2                                                 99                    \n",
       "3                                                149                    \n",
       "4                                                149                    \n",
       "\n",
       "   9. Which Financial products you like most  \\\n",
       "0              Mutual Fund SIP (ROI 12%)-1yr   \n",
       "1             Company Stock IPO(ROI 15%)-1yr   \n",
       "2  Yoshops Franchise Investment(ROI 16%)-1yr   \n",
       "3          Bank FD(Rate of Interest- 7%)-1yr   \n",
       "4          Bank FD(Rate of Interest- 7%)-1yr   \n",
       "\n",
       "  10. Are you interested in Yoshops Finance  Product.  \\\n",
       "0                                          No answer    \n",
       "1                                          No answer    \n",
       "2                                          No answer    \n",
       "3                                          No answer    \n",
       "4                                          No answer    \n",
       "\n",
       "  11. Which Unpaid Training Internship are you interested for 6 Months ?  \\\n",
       "0                                          No answer                       \n",
       "1                                          No answer                       \n",
       "2                                          No answer                       \n",
       "3                                          No answer                       \n",
       "4                                          No answer                       \n",
       "\n",
       "  12. How much you pay training fees per month for online training with internship?  \\\n",
       "0                                          No answer                                  \n",
       "1                                          No answer                                  \n",
       "2                                          No answer                                  \n",
       "3                                          No answer                                  \n",
       "4                                          No answer                                  \n",
       "\n",
       "    14. Any IDEA or Suggestions for Yoshops Startup   \\\n",
       "0                                          No Answer   \n",
       "1                                          No Answer   \n",
       "2  Management should be better, I Think If you wo...   \n",
       "3                                                 No   \n",
       "4                                          Marketing   \n",
       "\n",
       "  15. Do you want to get a free Gift and Refferal Amount Rs.100 by reffer friends to Training Internship and Online Tituation  \\\n",
       "0                                          No answer                                                                            \n",
       "1                                          No answer                                                                            \n",
       "2                                          No answer                                                                            \n",
       "3                                          No answer                                                                            \n",
       "4                                          No answer                                                                            \n",
       "\n",
       "  16. How would you rate Yoshops Training Internship and Products & Service   \n",
       "0                                          No answer                          \n",
       "1                                          No answer                          \n",
       "2                                          No answer                          \n",
       "3                                          No answer                          \n",
       "4                                          No answer                          "
      ]
     },
     "execution_count": 13,
     "metadata": {},
     "output_type": "execute_result"
    }
   ],
   "source": [
    "survey.head()"
   ]
  },
  {
   "cell_type": "code",
   "execution_count": 16,
   "id": "51a5489d",
   "metadata": {},
   "outputs": [],
   "source": [
    "import matplotlib.pyplot as plt"
   ]
  },
  {
   "cell_type": "code",
   "execution_count": 20,
   "id": "76a51d51",
   "metadata": {},
   "outputs": [
    {
     "data": {
      "image/png": "[encoded data removed]",
      "text/plain": [
       "<Figure size 432x288 with 1 Axes>"
      ]
     },
     "metadata": {},
     "output_type": "display_data"
    },
    {
     "data": {
      "image/png": "[encoded data removed]",
      "text/plain": [
       "<Figure size 432x288 with 1 Axes>"
      ]
     },
     "metadata": {
      "needs_background": "light"
     },
     "output_type": "display_data"
    },
    {
     "data": {
      "image/png": "[encoded data removed]",
      "text/plain": [
       "<Figure size 432x288 with 1 Axes>"
      ]
     },
     "metadata": {
      "needs_background": "light"
     },
     "output_type": "display_data"
    }
   ],
   "source": [
    "# Convert the 'date' column to datetime format\n",
    "survey['Submitted Time'] = pd.to_datetime(survey['Submitted Time'], format='%d-%m-%Y')\n",
    "\n",
    "# Extract year, month, and week from the 'date' column\n",
    "survey['year'] = survey['Submitted Time'].dt.year\n",
    "survey['month'] = survey['Submitted Time'].dt.month\n",
    "survey['week'] = survey['Submitted Time'].dt.isocalendar().week\n",
    "\n",
    "# Yearly report\n",
    "yearly_data = survey.groupby('year').size()\n",
    "yearly_data.plot(kind='pie', autopct='%1.1f%%')\n",
    "plt.title('Yearly Report')\n",
    "plt.show()\n",
    "\n",
    "# Monthly report\n",
    "monthly_data = survey.groupby(['year', 'month']).size().unstack()\n",
    "monthly_data.plot(kind='bar', stacked=True)\n",
    "plt.title('Monthly Report')\n",
    "plt.show()\n",
    "\n",
    "# Weekly report\n",
    "weekly_data = survey.groupby([survey['Submitted Time'].dt.year, survey['week']]).size()\n",
    "weekly_data.plot(kind='bar', stacked=True)\n",
    "plt.title('Weekly Report')\n",
    "plt.show()"
   ]
  },
  {
   "cell_type": "markdown",
   "id": "2b7f8413",
   "metadata": {},
   "source": [
    "# 5. Python program for Extract mobile no from PDF, Json,XML and MS word file and save into MS excel\n"
   ]
  },
  {
   "cell_type": "code",
   "execution_count": 29,
   "id": "33ca8fd5",
   "metadata": {},
   "outputs": [
    {
     "name": "stdout",
     "output_type": "stream",
     "text": [
      "Requirement already satisfied: PyPDF2 in d:\\users\\hp\\anaconda3\\lib\\site-packages (3.0.1)\n",
      "Requirement already satisfied: typing_extensions>=3.10.0.0 in d:\\users\\hp\\anaconda3\\lib\\site-packages (from PyPDF2) (4.1.1)\n",
      "Note: you may need to restart the kernel to use updated packages.\n"
     ]
    }
   ],
   "source": [
    "pip install PyPDF2\n"
   ]
  },
  {
   "cell_type": "code",
   "execution_count": 30,
   "id": "05214d93",
   "metadata": {},
   "outputs": [
    {
     "name": "stdout",
     "output_type": "stream",
     "text": [
      "Collecting python-docx\n",
      "  Downloading python-docx-0.8.11.tar.gz (5.6 MB)\n",
      "Requirement already satisfied: lxml>=2.3.2 in d:\\users\\hp\\anaconda3\\lib\\site-packages (from python-docx) (4.8.0)\n",
      "Building wheels for collected packages: python-docx\n",
      "  Building wheel for python-docx (setup.py): started\n",
      "  Building wheel for python-docx (setup.py): finished with status 'done'\n",
      "  Created wheel for python-docx: filename=python_docx-0.8.11-py3-none-any.whl size=184507 sha256=dba28523a0a26f483467635c731657dba5602c24d9b8ae521d192f06ea8706bf\n",
      "  Stored in directory: c:\\users\\hp\\appdata\\local\\pip\\cache\\wheels\\83\\8b\\7c\\09ae60c42c7ba4ed2dddaf2b8b9186cb105255856d6ed3dba5\n",
      "Successfully built python-docx\n",
      "Installing collected packages: python-docx\n",
      "Successfully installed python-docx-0.8.11\n",
      "Note: you may need to restart the kernel to use updated packages.\n"
     ]
    }
   ],
   "source": [
    "pip install python-docx\n"
   ]
  },
  {
   "cell_type": "code",
   "execution_count": 33,
   "id": "45ab6e01",
   "metadata": {},
   "outputs": [
    {
     "name": "stdout",
     "output_type": "stream",
     "text": [
      "Mobile numbers saved to mobile_numbers.xlsx\n"
     ]
    }
   ],
   "source": [
    "import os\n",
    "import re\n",
    "import json\n",
    "import xml.etree.ElementTree as ET\n",
    "import PyPDF2\n",
    "from docx import Document\n",
    "import pandas as pd\n",
    "\n",
    "def extract_mobile_numbers(text):\n",
    "    pattern = r\"\\b(?:\\+?(\\d{1,3}))?[-. (]*(\\d{3})[-. )]*(\\d{3})[-. ]*(\\d{4})\\b\"\n",
    "    mobile_numbers = re.findall(pattern, text)\n",
    "    return [''.join(number) for number in mobile_numbers]\n",
    "\n",
    "def extract_mobile_numbers_from_pdf(file_path):\n",
    "    try:\n",
    "        with open(file_path, 'rb') as f:\n",
    "            reader = PyPDF2.PdfReader(f)\n",
    "            text = \"\"\n",
    "            for page in reader.pages:\n",
    "                text += page.extract_text()\n",
    "        mobile_numbers = extract_mobile_numbers(text)\n",
    "        return mobile_numbers\n",
    "    except Exception as e:\n",
    "        print(f\"Error extracting mobile numbers from PDF: {e}\")\n",
    "        return []\n",
    "\n",
    "def extract_mobile_numbers_from_json(file_path):\n",
    "    try:\n",
    "        with open(file_path, 'r') as f:\n",
    "            data = json.load(f)\n",
    "        text = json.dumps(data)\n",
    "        mobile_numbers = extract_mobile_numbers(text)\n",
    "        return mobile_numbers\n",
    "    except Exception as e:\n",
    "        print(f\"Error extracting mobile numbers from JSON: {e}\")\n",
    "        return []\n",
    "\n",
    "def extract_mobile_numbers_from_xml(file_path):\n",
    "    try:\n",
    "        tree = ET.parse(file_path)\n",
    "        root = tree.getroot()\n",
    "        text = ET.tostring(root, encoding='unicode')\n",
    "        mobile_numbers = extract_mobile_numbers(text)\n",
    "        return mobile_numbers\n",
    "    except Exception as e:\n",
    "        print(f\"Error extracting mobile numbers from XML: {e}\")\n",
    "        return []\n",
    "\n",
    "def extract_mobile_numbers_from_word(file_path):\n",
    "    try:\n",
    "        doc = Document(file_path)\n",
    "        text = ' '.join([paragraph.text for paragraph in doc.paragraphs])\n",
    "        mobile_numbers = extract_mobile_numbers(text)\n",
    "        return mobile_numbers\n",
    "    except Exception as e:\n",
    "        print(f\"Error extracting mobile numbers from Word: {e}\")\n",
    "        return []\n",
    "\n",
    "def save_mobile_numbers_to_excel(mobile_numbers, output_file):\n",
    "    df = pd.DataFrame({'Mobile Number': mobile_numbers})\n",
    "    df.to_excel(output_file, index=False)\n",
    "    print(f\"Mobile numbers saved to {output_file}\")\n",
    "\n",
    "def main():\n",
    "    directory_path = r\"C:\\Users\\HP\\Desktop\\Internship\\Task_1\\contact data\"\n",
    "    mobile_numbers = []\n",
    "\n",
    "    for root, dirs, files in os.walk(directory_path):\n",
    "        for file_name in files:\n",
    "            file_path = os.path.join(root, file_name)\n",
    "\n",
    "            if file_name.endswith('.pdf'):\n",
    "                mobile_numbers.extend(extract_mobile_numbers_from_pdf(file_path))\n",
    "            elif file_name.endswith('.json'):\n",
    "                mobile_numbers.extend(extract_mobile_numbers_from_json(file_path))\n",
    "            elif file_name.endswith('.xml'):\n",
    "                mobile_numbers.extend(extract_mobile_numbers_from_xml(file_path))\n",
    "            elif file_name.endswith('.docx'):\n",
    "                mobile_numbers.extend(extract_mobile_numbers_from_word(file_path))\n",
    "\n",
    "    excel_file_path = 'mobile_numbers.xlsx'\n",
    "    if mobile_numbers:\n",
    "        save_mobile_numbers_to_excel(mobile_numbers, excel_file_path)\n",
    "    else:\n",
    "        print(\"No mobile numbers found in the files.\")\n",
    "\n",
    "if __name__ == \"__main__\":\n",
    "    main()\n"
   ]
  },
  {
   "cell_type": "markdown",
   "id": "48472aba",
   "metadata": {},
   "source": [
    "# 6.Prepare python programm for data cleaning process to removing unnecessary data\n"
   ]
  },
  {
   "cell_type": "code",
   "execution_count": 52,
   "id": "9190ca27",
   "metadata": {},
   "outputs": [],
   "source": [
    "order=pd.read_excel(\"C:\\\\Users\\\\HP\\\\Desktop\\\\Internship\\\\Task_1\\\\Yoshops_Order_List.xlsx\")\n",
    " "
   ]
  },
  {
   "cell_type": "code",
   "execution_count": 53,
   "id": "21513139",
   "metadata": {},
   "outputs": [
    {
     "data": {
      "text/html": [
       "<div>\n",
       "<style scoped>\n",
       "    .dataframe tbody tr th:only-of-type {\n",
       "        vertical-align: middle;\n",
       "    }\n",
       "\n",
       "    .dataframe tbody tr th {\n",
       "        vertical-align: top;\n",
       "    }\n",
       "\n",
       "    .dataframe thead th {\n",
       "        text-align: right;\n",
       "    }\n",
       "</style>\n",
       "<table border=\"1\" class=\"dataframe\">\n",
       "  <thead>\n",
       "    <tr style=\"text-align: right;\">\n",
       "      <th></th>\n",
       "      <th>Unnamed: 0</th>\n",
       "      <th>Unnamed: 1</th>\n",
       "      <th>Unnamed: 2</th>\n",
       "      <th>Unnamed: 3</th>\n",
       "      <th>Unnamed: 4</th>\n",
       "      <th>Unnamed: 5</th>\n",
       "      <th>Unnamed: 6</th>\n",
       "    </tr>\n",
       "  </thead>\n",
       "  <tbody>\n",
       "    <tr>\n",
       "      <th>0</th>\n",
       "      <td>Name</td>\n",
       "      <td>Address 1</td>\n",
       "      <td>Adress 2</td>\n",
       "      <td>Adress 3</td>\n",
       "      <td>City</td>\n",
       "      <td>pincode</td>\n",
       "      <td>state</td>\n",
       "    </tr>\n",
       "    <tr>\n",
       "      <th>1</th>\n",
       "      <td>SURJEET SINGH KADIAN</td>\n",
       "      <td>695-35 JANTA COLONY</td>\n",
       "      <td>0</td>\n",
       "      <td>0</td>\n",
       "      <td>Rohtak</td>\n",
       "      <td>124001</td>\n",
       "      <td>Haryana</td>\n",
       "    </tr>\n",
       "    <tr>\n",
       "      <th>2</th>\n",
       "      <td>LAKSHMI NARAYANAN S</td>\n",
       "      <td>K M B L CEEBROS CENTRE 1ST FLR</td>\n",
       "      <td>39 MONTEITH ROAD EGMORE</td>\n",
       "      <td>0</td>\n",
       "      <td>Chennai</td>\n",
       "      <td>600008</td>\n",
       "      <td>Tamil Nadu</td>\n",
       "    </tr>\n",
       "    <tr>\n",
       "      <th>3</th>\n",
       "      <td>TARUN  SINHA</td>\n",
       "      <td>C-1052 1ST FLOOR</td>\n",
       "      <td>SUSHANT LOK - I</td>\n",
       "      <td>0</td>\n",
       "      <td>Gurgaon</td>\n",
       "      <td>122001</td>\n",
       "      <td>Haryana</td>\n",
       "    </tr>\n",
       "    <tr>\n",
       "      <th>4</th>\n",
       "      <td>AVNISH  SRIVASTAVA</td>\n",
       "      <td>Fltno207 208 Dhavalgiri</td>\n",
       "      <td>Neelkanth Vihar Kurla Terminus</td>\n",
       "      <td>Pipeline Rd Ghatkopar E</td>\n",
       "      <td>Mumbai</td>\n",
       "      <td>400077</td>\n",
       "      <td>Maharashtra</td>\n",
       "    </tr>\n",
       "  </tbody>\n",
       "</table>\n",
       "</div>"
      ],
      "text/plain": [
       "             Unnamed: 0                      Unnamed: 1  \\\n",
       "0                  Name                       Address 1   \n",
       "1  SURJEET SINGH KADIAN             695-35 JANTA COLONY   \n",
       "2   LAKSHMI NARAYANAN S  K M B L CEEBROS CENTRE 1ST FLR   \n",
       "3          TARUN  SINHA                C-1052 1ST FLOOR   \n",
       "4    AVNISH  SRIVASTAVA         Fltno207 208 Dhavalgiri   \n",
       "\n",
       "                       Unnamed: 2               Unnamed: 3 Unnamed: 4  \\\n",
       "0                        Adress 2                 Adress 3       City   \n",
       "1                               0                        0     Rohtak   \n",
       "2         39 MONTEITH ROAD EGMORE                        0    Chennai   \n",
       "3                 SUSHANT LOK - I                        0    Gurgaon   \n",
       "4  Neelkanth Vihar Kurla Terminus  Pipeline Rd Ghatkopar E     Mumbai   \n",
       "\n",
       "  Unnamed: 5   Unnamed: 6  \n",
       "0    pincode        state  \n",
       "1     124001      Haryana  \n",
       "2     600008   Tamil Nadu  \n",
       "3     122001      Haryana  \n",
       "4     400077  Maharashtra  "
      ]
     },
     "execution_count": 53,
     "metadata": {},
     "output_type": "execute_result"
    }
   ],
   "source": [
    "order.head()"
   ]
  },
  {
   "cell_type": "code",
   "execution_count": null,
   "id": "ffd806ac",
   "metadata": {},
   "outputs": [],
   "source": [
    "#Repalcing the column names with new"
   ]
  },
  {
   "cell_type": "code",
   "execution_count": 55,
   "id": "6d8c3b70",
   "metadata": {},
   "outputs": [],
   "source": [
    "order.rename(columns={'Unnamed: 0':'Name','Unnamed: 1':'Address 1','Unnamed: 2':'Adress 2','Unnamed: 3':'Adress 3','Unnamed: 4':'City','Unnamed: 5':'pincode','Unnamed: 6':'state'}, inplace=True)"
   ]
  },
  {
   "cell_type": "code",
   "execution_count": 56,
   "id": "ec262653",
   "metadata": {},
   "outputs": [
    {
     "data": {
      "text/html": [
       "<div>\n",
       "<style scoped>\n",
       "    .dataframe tbody tr th:only-of-type {\n",
       "        vertical-align: middle;\n",
       "    }\n",
       "\n",
       "    .dataframe tbody tr th {\n",
       "        vertical-align: top;\n",
       "    }\n",
       "\n",
       "    .dataframe thead th {\n",
       "        text-align: right;\n",
       "    }\n",
       "</style>\n",
       "<table border=\"1\" class=\"dataframe\">\n",
       "  <thead>\n",
       "    <tr style=\"text-align: right;\">\n",
       "      <th></th>\n",
       "      <th>Name</th>\n",
       "      <th>Address 1</th>\n",
       "      <th>Adress 2</th>\n",
       "      <th>Adress 3</th>\n",
       "      <th>City</th>\n",
       "      <th>pincode</th>\n",
       "      <th>state</th>\n",
       "    </tr>\n",
       "  </thead>\n",
       "  <tbody>\n",
       "    <tr>\n",
       "      <th>0</th>\n",
       "      <td>Name</td>\n",
       "      <td>Address 1</td>\n",
       "      <td>Adress 2</td>\n",
       "      <td>Adress 3</td>\n",
       "      <td>City</td>\n",
       "      <td>pincode</td>\n",
       "      <td>state</td>\n",
       "    </tr>\n",
       "    <tr>\n",
       "      <th>1</th>\n",
       "      <td>SURJEET SINGH KADIAN</td>\n",
       "      <td>695-35 JANTA COLONY</td>\n",
       "      <td>0</td>\n",
       "      <td>0</td>\n",
       "      <td>Rohtak</td>\n",
       "      <td>124001</td>\n",
       "      <td>Haryana</td>\n",
       "    </tr>\n",
       "    <tr>\n",
       "      <th>2</th>\n",
       "      <td>LAKSHMI NARAYANAN S</td>\n",
       "      <td>K M B L CEEBROS CENTRE 1ST FLR</td>\n",
       "      <td>39 MONTEITH ROAD EGMORE</td>\n",
       "      <td>0</td>\n",
       "      <td>Chennai</td>\n",
       "      <td>600008</td>\n",
       "      <td>Tamil Nadu</td>\n",
       "    </tr>\n",
       "    <tr>\n",
       "      <th>3</th>\n",
       "      <td>TARUN  SINHA</td>\n",
       "      <td>C-1052 1ST FLOOR</td>\n",
       "      <td>SUSHANT LOK - I</td>\n",
       "      <td>0</td>\n",
       "      <td>Gurgaon</td>\n",
       "      <td>122001</td>\n",
       "      <td>Haryana</td>\n",
       "    </tr>\n",
       "    <tr>\n",
       "      <th>4</th>\n",
       "      <td>AVNISH  SRIVASTAVA</td>\n",
       "      <td>Fltno207 208 Dhavalgiri</td>\n",
       "      <td>Neelkanth Vihar Kurla Terminus</td>\n",
       "      <td>Pipeline Rd Ghatkopar E</td>\n",
       "      <td>Mumbai</td>\n",
       "      <td>400077</td>\n",
       "      <td>Maharashtra</td>\n",
       "    </tr>\n",
       "  </tbody>\n",
       "</table>\n",
       "</div>"
      ],
      "text/plain": [
       "                   Name                       Address 1  \\\n",
       "0                  Name                       Address 1   \n",
       "1  SURJEET SINGH KADIAN             695-35 JANTA COLONY   \n",
       "2   LAKSHMI NARAYANAN S  K M B L CEEBROS CENTRE 1ST FLR   \n",
       "3          TARUN  SINHA                C-1052 1ST FLOOR   \n",
       "4    AVNISH  SRIVASTAVA         Fltno207 208 Dhavalgiri   \n",
       "\n",
       "                         Adress 2                 Adress 3     City  pincode  \\\n",
       "0                        Adress 2                 Adress 3     City  pincode   \n",
       "1                               0                        0   Rohtak   124001   \n",
       "2         39 MONTEITH ROAD EGMORE                        0  Chennai   600008   \n",
       "3                 SUSHANT LOK - I                        0  Gurgaon   122001   \n",
       "4  Neelkanth Vihar Kurla Terminus  Pipeline Rd Ghatkopar E   Mumbai   400077   \n",
       "\n",
       "         state  \n",
       "0        state  \n",
       "1      Haryana  \n",
       "2   Tamil Nadu  \n",
       "3      Haryana  \n",
       "4  Maharashtra  "
      ]
     },
     "execution_count": 56,
     "metadata": {},
     "output_type": "execute_result"
    }
   ],
   "source": [
    "order.head()"
   ]
  },
  {
   "cell_type": "code",
   "execution_count": 57,
   "id": "489f86a3",
   "metadata": {},
   "outputs": [],
   "source": [
    "order = order.iloc[1:]\n",
    "#deleting the first row"
   ]
  },
  {
   "cell_type": "code",
   "execution_count": 58,
   "id": "2a785a50",
   "metadata": {},
   "outputs": [
    {
     "data": {
      "text/html": [
       "<div>\n",
       "<style scoped>\n",
       "    .dataframe tbody tr th:only-of-type {\n",
       "        vertical-align: middle;\n",
       "    }\n",
       "\n",
       "    .dataframe tbody tr th {\n",
       "        vertical-align: top;\n",
       "    }\n",
       "\n",
       "    .dataframe thead th {\n",
       "        text-align: right;\n",
       "    }\n",
       "</style>\n",
       "<table border=\"1\" class=\"dataframe\">\n",
       "  <thead>\n",
       "    <tr style=\"text-align: right;\">\n",
       "      <th></th>\n",
       "      <th>Name</th>\n",
       "      <th>Address 1</th>\n",
       "      <th>Adress 2</th>\n",
       "      <th>Adress 3</th>\n",
       "      <th>City</th>\n",
       "      <th>pincode</th>\n",
       "      <th>state</th>\n",
       "    </tr>\n",
       "  </thead>\n",
       "  <tbody>\n",
       "    <tr>\n",
       "      <th>1</th>\n",
       "      <td>SURJEET SINGH KADIAN</td>\n",
       "      <td>695-35 JANTA COLONY</td>\n",
       "      <td>0</td>\n",
       "      <td>0</td>\n",
       "      <td>Rohtak</td>\n",
       "      <td>124001</td>\n",
       "      <td>Haryana</td>\n",
       "    </tr>\n",
       "    <tr>\n",
       "      <th>2</th>\n",
       "      <td>LAKSHMI NARAYANAN S</td>\n",
       "      <td>K M B L CEEBROS CENTRE 1ST FLR</td>\n",
       "      <td>39 MONTEITH ROAD EGMORE</td>\n",
       "      <td>0</td>\n",
       "      <td>Chennai</td>\n",
       "      <td>600008</td>\n",
       "      <td>Tamil Nadu</td>\n",
       "    </tr>\n",
       "    <tr>\n",
       "      <th>3</th>\n",
       "      <td>TARUN  SINHA</td>\n",
       "      <td>C-1052 1ST FLOOR</td>\n",
       "      <td>SUSHANT LOK - I</td>\n",
       "      <td>0</td>\n",
       "      <td>Gurgaon</td>\n",
       "      <td>122001</td>\n",
       "      <td>Haryana</td>\n",
       "    </tr>\n",
       "    <tr>\n",
       "      <th>4</th>\n",
       "      <td>AVNISH  SRIVASTAVA</td>\n",
       "      <td>Fltno207 208 Dhavalgiri</td>\n",
       "      <td>Neelkanth Vihar Kurla Terminus</td>\n",
       "      <td>Pipeline Rd Ghatkopar E</td>\n",
       "      <td>Mumbai</td>\n",
       "      <td>400077</td>\n",
       "      <td>Maharashtra</td>\n",
       "    </tr>\n",
       "    <tr>\n",
       "      <th>5</th>\n",
       "      <td>RISHI  KHANDELWAL</td>\n",
       "      <td>OM KOTAK MAHINDRA LIFE INSU CO</td>\n",
       "      <td>7TH FLOOR AMBADEP 14 K G MARG</td>\n",
       "      <td>0</td>\n",
       "      <td>New Delhi</td>\n",
       "      <td>110001</td>\n",
       "      <td>Delhi</td>\n",
       "    </tr>\n",
       "  </tbody>\n",
       "</table>\n",
       "</div>"
      ],
      "text/plain": [
       "                   Name                       Address 1  \\\n",
       "1  SURJEET SINGH KADIAN             695-35 JANTA COLONY   \n",
       "2   LAKSHMI NARAYANAN S  K M B L CEEBROS CENTRE 1ST FLR   \n",
       "3          TARUN  SINHA                C-1052 1ST FLOOR   \n",
       "4    AVNISH  SRIVASTAVA         Fltno207 208 Dhavalgiri   \n",
       "5     RISHI  KHANDELWAL  OM KOTAK MAHINDRA LIFE INSU CO   \n",
       "\n",
       "                         Adress 2                 Adress 3       City pincode  \\\n",
       "1                               0                        0     Rohtak  124001   \n",
       "2         39 MONTEITH ROAD EGMORE                        0    Chennai  600008   \n",
       "3                 SUSHANT LOK - I                        0    Gurgaon  122001   \n",
       "4  Neelkanth Vihar Kurla Terminus  Pipeline Rd Ghatkopar E     Mumbai  400077   \n",
       "5   7TH FLOOR AMBADEP 14 K G MARG                        0  New Delhi  110001   \n",
       "\n",
       "         state  \n",
       "1      Haryana  \n",
       "2   Tamil Nadu  \n",
       "3      Haryana  \n",
       "4  Maharashtra  \n",
       "5        Delhi  "
      ]
     },
     "execution_count": 58,
     "metadata": {},
     "output_type": "execute_result"
    }
   ],
   "source": [
    "order.head()"
   ]
  },
  {
   "cell_type": "code",
   "execution_count": 61,
   "id": "4e25ccd9",
   "metadata": {},
   "outputs": [],
   "source": [
    "null_counts = order.isnull().sum()"
   ]
  },
  {
   "cell_type": "code",
   "execution_count": 62,
   "id": "662921c2",
   "metadata": {},
   "outputs": [
    {
     "name": "stdout",
     "output_type": "stream",
     "text": [
      "Name         0\n",
      "Address 1    1\n",
      "Adress 2     2\n",
      "Adress 3     0\n",
      "City         0\n",
      "pincode      2\n",
      "state        0\n",
      "dtype: int64\n"
     ]
    }
   ],
   "source": [
    "print(null_counts)"
   ]
  },
  {
   "cell_type": "code",
   "execution_count": 65,
   "id": "4032e0ea",
   "metadata": {},
   "outputs": [],
   "source": [
    "order['Address 1'] = order['Address 1'].fillna(\"nill\")\n",
    "order['Adress 2'] = order['Adress 2'].fillna(\"nill\")\n",
    "order['pincode'] =order['pincode'].fillna(\"nill\")\n"
   ]
  },
  {
   "cell_type": "code",
   "execution_count": 66,
   "id": "f4e6caa1",
   "metadata": {},
   "outputs": [
    {
     "data": {
      "text/plain": [
       "Name         0\n",
       "Address 1    0\n",
       "Adress 2     0\n",
       "Adress 3     0\n",
       "City         0\n",
       "pincode      0\n",
       "state        0\n",
       "dtype: int64"
      ]
     },
     "execution_count": 66,
     "metadata": {},
     "output_type": "execute_result"
    }
   ],
   "source": [
    "order.isnull().sum()"
   ]
  },
  {
   "cell_type": "markdown",
   "id": "e91f14ff",
   "metadata": {},
   "source": [
    "# Task:11 Products Review ATS: Review reply Automation Validation Write a python programm to reply review in product page where customers write  feedback on Products . Input value link = Yoshops.com .Output = create excel file with  web url, Products name, Products Details, products review, customer name and customr email id columns.\n"
   ]
  },
  {
   "cell_type": "code",
   "execution_count": 68,
   "id": "f97635df",
   "metadata": {},
   "outputs": [
    {
     "name": "stdout",
     "output_type": "stream",
     "text": [
      "Failed to retrieve data from the website.\n"
     ]
    }
   ],
   "source": [
    "import pandas as pd\n",
    "import requests\n",
    "from bs4 import BeautifulSoup\n",
    "\n",
    "def scrape_product_reviews(url):\n",
    "    # Send a request to the website\n",
    "    response = requests.get(url)\n",
    "    \n",
    "    # Check if the request was successful\n",
    "    if response.status_code == 200:\n",
    "        soup = BeautifulSoup(response.content, 'html.parser')\n",
    "        \n",
    "        # Extract the required information from the website using BeautifulSoup\n",
    "        # Replace the selectors below with the appropriate ones for the specific website\n",
    "        product_name = soup.select_one('.product-name').text.strip()\n",
    "        product_details = soup.select_one('.product-details').text.strip()\n",
    "        \n",
    "        reviews = []\n",
    "        for review in soup.select('.customer-review'):\n",
    "            customer_name = review.select_one('.customer-name').text.strip()\n",
    "            customer_email = review.select_one('.customer-email').text.strip()\n",
    "            review_text = review.select_one('.review-text').text.strip()\n",
    "            reviews.append({'Customer Name': customer_name,\n",
    "                            'Customer Email': customer_email,\n",
    "                            'Review Text': review_text})\n",
    "        \n",
    "        # Create a DataFrame from the collected data\n",
    "        df = pd.DataFrame(reviews)\n",
    "        df['Web URL'] = url\n",
    "        df['Product Name'] = product_name\n",
    "        df['Product Details'] = product_details\n",
    "        \n",
    "        # Return the DataFrame\n",
    "        return df\n",
    "    else:\n",
    "        print(\"Failed to retrieve data from the website.\")\n",
    "        return None\n",
    "\n",
    "if __name__ == \"__main__\":\n",
    "    # Input the URL for product reviews\n",
    "    input_url = \"https://www.yoshops.com/products/12345\"\n",
    "    \n",
    "    # Scrape the product reviews\n",
    "    reviews_df = scrape_product_reviews(input_url)\n",
    "    \n",
    "    if reviews_df is not None:\n",
    "        # Create an Excel file with the scraped data\n",
    "        output_file = 'product_reviews.xlsx'\n",
    "        reviews_df.to_excel(output_file, index=False)\n",
    "        print(f\"Product reviews scraped and saved to '{output_file}'.\")\n"
   ]
  },
  {
   "cell_type": "code",
   "execution_count": null,
   "id": "61b7b735",
   "metadata": {},
   "outputs": [],
   "source": []
  }
 ],
 "metadata": {
  "kernelspec": {
   "display_name": "Python 3 (ipykernel)",
   "language": "python",
   "name": "python3"
  },
  "language_info": {
   "codemirror_mode": {
    "name": "ipython",
    "version": 3
   },
   "file_extension": ".py",
   "mimetype": "text/x-python",
   "name": "python",
   "nbconvert_exporter": "python",
   "pygments_lexer": "ipython3",
   "version": "3.9.12"
  }
 },
 "nbformat": 4,
 "nbformat_minor": 5
}
